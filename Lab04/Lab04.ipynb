{
 "cells": [
  {
   "cell_type": "code",
   "execution_count": 1,
   "metadata": {
    "collapsed": true,
    "ExecuteTime": {
     "end_time": "2024-04-08T07:32:24.499815100Z",
     "start_time": "2024-04-08T07:32:16.777741200Z"
    }
   },
   "outputs": [],
   "source": [
    "import pandas as pd\n",
    "from matplotlib import pyplot as plt\n",
    "from sklearn.metrics import accuracy_score, precision_score, recall_score, confusion_matrix\n",
    "from sklearn.model_selection import train_test_split, GridSearchCV\n",
    "from sklearn.neighbors import KNeighborsClassifier\n",
    "from sklearn.preprocessing import LabelEncoder\n",
    "from sklearn.linear_model import LogisticRegression\n",
    "from sklearn.svm import SVC\n",
    "from sklearn.tree import DecisionTreeClassifier\n",
    "from sklearn.metrics import roc_curve\n",
    "\n",
    "%matplotlib inline"
   ]
  },
  {
   "cell_type": "code",
   "execution_count": 2,
   "outputs": [
    {
     "name": "stdout",
     "output_type": "stream",
     "text": [
      "            name  diameter  weight  red  green  blue\n",
      "0         orange      2.96   86.76  172     85     2\n",
      "1         orange      3.91   88.05  166     78     3\n",
      "2         orange      4.42   95.17  156     81     2\n",
      "3         orange      4.47   95.60  163     81     4\n",
      "4         orange      4.48   95.76  161     72     9\n",
      "...          ...       ...     ...  ...    ...   ...\n",
      "9995  grapefruit     15.35  253.89  149     77    20\n",
      "9996  grapefruit     15.41  254.67  148     68     7\n",
      "9997  grapefruit     15.59  256.50  168     82    20\n",
      "9998  grapefruit     15.92  260.14  142     72    11\n",
      "9999  grapefruit     16.45  261.51  152     74     2\n",
      "\n",
      "[10000 rows x 6 columns]\n"
     ]
    }
   ],
   "source": [
    "citrus_data = pd.read_csv(\"citrus.csv\")\n",
    "print(citrus_data)"
   ],
   "metadata": {
    "collapsed": false,
    "ExecuteTime": {
     "end_time": "2024-04-08T07:32:45.411060500Z",
     "start_time": "2024-04-08T07:32:45.320699400Z"
    }
   }
  },
  {
   "cell_type": "code",
   "execution_count": 3,
   "outputs": [
    {
     "name": "stdout",
     "output_type": "stream",
     "text": [
      "      name  diameter  weight  red  green  blue\n",
      "0        1      2.96   86.76  172     85     2\n",
      "1        1      3.91   88.05  166     78     3\n",
      "2        1      4.42   95.17  156     81     2\n",
      "3        1      4.47   95.60  163     81     4\n",
      "4        1      4.48   95.76  161     72     9\n",
      "...    ...       ...     ...  ...    ...   ...\n",
      "9995     0     15.35  253.89  149     77    20\n",
      "9996     0     15.41  254.67  148     68     7\n",
      "9997     0     15.59  256.50  168     82    20\n",
      "9998     0     15.92  260.14  142     72    11\n",
      "9999     0     16.45  261.51  152     74     2\n",
      "\n",
      "[10000 rows x 6 columns]\n"
     ]
    }
   ],
   "source": [
    "label_encoder = LabelEncoder()\n",
    "citrus_data['name'] = label_encoder.fit_transform(citrus_data['name'])\n",
    "print(citrus_data)"
   ],
   "metadata": {
    "collapsed": false,
    "ExecuteTime": {
     "end_time": "2024-04-08T07:32:51.087195500Z",
     "start_time": "2024-04-08T07:32:51.063520400Z"
    }
   }
  },
  {
   "cell_type": "code",
   "execution_count": 4,
   "outputs": [
    {
     "name": "stdout",
     "output_type": "stream",
     "text": [
      "(7500, 5) (2500, 5)\n",
      "(7500,) (2500,)\n"
     ]
    }
   ],
   "source": [
    "x = citrus_data.drop('name', axis=1)\n",
    "y = citrus_data['name']\n",
    "\n",
    "x_train, x_valid, y_train, y_valid = train_test_split(x, y, random_state=17)\n",
    "print(x_train.shape, x_valid.shape)\n",
    "print(y_train.shape, y_valid.shape)"
   ],
   "metadata": {
    "collapsed": false,
    "ExecuteTime": {
     "end_time": "2024-04-08T07:32:54.862180500Z",
     "start_time": "2024-04-08T07:32:54.842424800Z"
    }
   }
  },
  {
   "cell_type": "markdown",
   "source": [
    "Обучите на своих данных модель логистической регрессии LogisticRegression().\n",
    "Рассчитайте точность на обучающих и тестовых данных"
   ],
   "metadata": {
    "collapsed": false
   }
  },
  {
   "cell_type": "code",
   "execution_count": 5,
   "outputs": [
    {
     "name": "stdout",
     "output_type": "stream",
     "text": [
      "Правильность на обучающем наборе: 0.96\n",
      "Правильность на тестовом наборе: 0.95\n"
     ]
    }
   ],
   "source": [
    "model = LogisticRegression()\n",
    "model.fit(x_train, y_train)\n",
    "\n",
    "train_accuracy = model.score(x_train, y_train)\n",
    "print(\"Правильность на обучающем наборе: {:.2f}\".format(train_accuracy))\n",
    "\n",
    "test_accuracy = model.score(x_valid, y_valid)\n",
    "print(\"Правильность на тестовом наборе: {:.2f}\".format(test_accuracy))"
   ],
   "metadata": {
    "collapsed": false,
    "ExecuteTime": {
     "end_time": "2024-04-08T07:32:57.864063Z",
     "start_time": "2024-04-08T07:32:57.800519100Z"
    }
   }
  },
  {
   "cell_type": "markdown",
   "source": [
    "Измените в модели параметр регуляризации С, по умолчанию С=1, пересчитайте с С= 100 и С= 0,01. Вновь выведите правильность на обучающем и тестовом наборах. Сделайте выводы."
   ],
   "metadata": {
    "collapsed": false
   }
  },
  {
   "cell_type": "code",
   "execution_count": 6,
   "outputs": [
    {
     "name": "stdout",
     "output_type": "stream",
     "text": [
      "Правильность на обучающем наборе (C=100): 0.97\n",
      "Правильность на тестовом наборе (C=100): 0.96\n",
      "Правильность на обучающем наборе (C=0.01): 0.93\n",
      "Правильность на тестовом наборе (C=0.01): 0.92\n"
     ]
    }
   ],
   "source": [
    "model_c100 = LogisticRegression(C=100)\n",
    "model_c100.fit(x_train, y_train)\n",
    "\n",
    "train_accuracy_c100 = model_c100.score(x_train, y_train)\n",
    "test_accuracy_c100 = model_c100.score(x_valid, y_valid)\n",
    "print(\"Правильность на обучающем наборе (C=100): {:.2f}\".format(train_accuracy_c100))\n",
    "print(\"Правильность на тестовом наборе (C=100): {:.2f}\".format(test_accuracy_c100))\n",
    "\n",
    "model_c001 = LogisticRegression(C=0.01)\n",
    "model_c001.fit(x_train, y_train)\n",
    "\n",
    "train_accuracy_c001 = model_c001.score(x_train, y_train)\n",
    "test_accuracy_c001 = model_c001.score(x_valid, y_valid)\n",
    "print(\"Правильность на обучающем наборе (C=0.01): {:.2f}\".format(train_accuracy_c001))\n",
    "print(\"Правильность на тестовом наборе (C=0.01): {:.2f}\".format(test_accuracy_c001))"
   ],
   "metadata": {
    "collapsed": false,
    "ExecuteTime": {
     "end_time": "2024-04-08T07:33:07.180202Z",
     "start_time": "2024-04-08T07:33:07.083853900Z"
    }
   }
  },
  {
   "cell_type": "markdown",
   "source": [
    "Добавьте в модель L2-регуляризацию"
   ],
   "metadata": {
    "collapsed": false
   }
  },
  {
   "cell_type": "code",
   "execution_count": 84,
   "outputs": [
    {
     "name": "stdout",
     "output_type": "stream",
     "text": [
      "Правильность на обучающем наборе (L2, C=1): 0.96\n",
      "Правильность на тестовом наборе (L2, C=1): 0.95\n"
     ]
    }
   ],
   "source": [
    "model_l2 = LogisticRegression(penalty='l2')\n",
    "model_l2.fit(x_train, y_train)\n",
    "\n",
    "train_accuracy_l2_default = model_l2.score(x_train, y_train)\n",
    "test_accuracy_l2_default = model_l2.score(x_valid, y_valid)\n",
    "print(\"Правильность на обучающем наборе (L2, C=1): {:.2f}\".format(train_accuracy_l2_default))\n",
    "print(\"Правильность на тестовом наборе (L2, C=1): {:.2f}\".format(test_accuracy_l2_default))"
   ],
   "metadata": {
    "collapsed": false,
    "ExecuteTime": {
     "end_time": "2024-03-17T15:44:57.557220700Z",
     "start_time": "2024-03-17T15:44:57.511079200Z"
    }
   }
  },
  {
   "cell_type": "markdown",
   "source": [
    "Рассчитайте метрики качества (accuracy, precision, recall) и матрицу ошибок для наилучшей на ваш взгляд модели.\n"
   ],
   "metadata": {
    "collapsed": false
   }
  },
  {
   "cell_type": "code",
   "execution_count": 7,
   "outputs": [
    {
     "name": "stdout",
     "output_type": "stream",
     "text": [
      "Accuracy: 0.9572\n",
      "Precision: 0.98\n",
      "Recall: 0.9340746624305004\n",
      "Confusion Matrix:\n",
      " [[1217   24]\n",
      " [  83 1176]]\n"
     ]
    }
   ],
   "source": [
    "y_pred = model_c100.predict(x_valid)\n",
    "\n",
    "accuracy = accuracy_score(y_valid, y_pred)\n",
    "precision = precision_score(y_valid, y_pred)\n",
    "recall = recall_score(y_valid, y_pred)\n",
    "\n",
    "conf_matrix = confusion_matrix(y_valid, y_pred)\n",
    "\n",
    "print(\"Accuracy:\", accuracy)\n",
    "print(\"Precision:\", precision)\n",
    "print(\"Recall:\", recall)\n",
    "print(\"Confusion Matrix:\\n\", conf_matrix)"
   ],
   "metadata": {
    "collapsed": false,
    "ExecuteTime": {
     "end_time": "2024-04-08T07:37:22.677426200Z",
     "start_time": "2024-04-08T07:37:22.644089600Z"
    }
   }
  },
  {
   "cell_type": "markdown",
   "source": [
    " Обучите на своих данных модель метода опорных векторов SVC()."
   ],
   "metadata": {
    "collapsed": false
   }
  },
  {
   "cell_type": "code",
   "execution_count": 8,
   "outputs": [
    {
     "data": {
      "text/plain": "SVC()",
      "text/html": "<style>#sk-container-id-1 {\n  /* Definition of color scheme common for light and dark mode */\n  --sklearn-color-text: black;\n  --sklearn-color-line: gray;\n  /* Definition of color scheme for unfitted estimators */\n  --sklearn-color-unfitted-level-0: #fff5e6;\n  --sklearn-color-unfitted-level-1: #f6e4d2;\n  --sklearn-color-unfitted-level-2: #ffe0b3;\n  --sklearn-color-unfitted-level-3: chocolate;\n  /* Definition of color scheme for fitted estimators */\n  --sklearn-color-fitted-level-0: #f0f8ff;\n  --sklearn-color-fitted-level-1: #d4ebff;\n  --sklearn-color-fitted-level-2: #b3dbfd;\n  --sklearn-color-fitted-level-3: cornflowerblue;\n\n  /* Specific color for light theme */\n  --sklearn-color-text-on-default-background: var(--sg-text-color, var(--theme-code-foreground, var(--jp-content-font-color1, black)));\n  --sklearn-color-background: var(--sg-background-color, var(--theme-background, var(--jp-layout-color0, white)));\n  --sklearn-color-border-box: var(--sg-text-color, var(--theme-code-foreground, var(--jp-content-font-color1, black)));\n  --sklearn-color-icon: #696969;\n\n  @media (prefers-color-scheme: dark) {\n    /* Redefinition of color scheme for dark theme */\n    --sklearn-color-text-on-default-background: var(--sg-text-color, var(--theme-code-foreground, var(--jp-content-font-color1, white)));\n    --sklearn-color-background: var(--sg-background-color, var(--theme-background, var(--jp-layout-color0, #111)));\n    --sklearn-color-border-box: var(--sg-text-color, var(--theme-code-foreground, var(--jp-content-font-color1, white)));\n    --sklearn-color-icon: #878787;\n  }\n}\n\n#sk-container-id-1 {\n  color: var(--sklearn-color-text);\n}\n\n#sk-container-id-1 pre {\n  padding: 0;\n}\n\n#sk-container-id-1 input.sk-hidden--visually {\n  border: 0;\n  clip: rect(1px 1px 1px 1px);\n  clip: rect(1px, 1px, 1px, 1px);\n  height: 1px;\n  margin: -1px;\n  overflow: hidden;\n  padding: 0;\n  position: absolute;\n  width: 1px;\n}\n\n#sk-container-id-1 div.sk-dashed-wrapped {\n  border: 1px dashed var(--sklearn-color-line);\n  margin: 0 0.4em 0.5em 0.4em;\n  box-sizing: border-box;\n  padding-bottom: 0.4em;\n  background-color: var(--sklearn-color-background);\n}\n\n#sk-container-id-1 div.sk-container {\n  /* jupyter's `normalize.less` sets `[hidden] { display: none; }`\n     but bootstrap.min.css set `[hidden] { display: none !important; }`\n     so we also need the `!important` here to be able to override the\n     default hidden behavior on the sphinx rendered scikit-learn.org.\n     See: https://github.com/scikit-learn/scikit-learn/issues/21755 */\n  display: inline-block !important;\n  position: relative;\n}\n\n#sk-container-id-1 div.sk-text-repr-fallback {\n  display: none;\n}\n\ndiv.sk-parallel-item,\ndiv.sk-serial,\ndiv.sk-item {\n  /* draw centered vertical line to link estimators */\n  background-image: linear-gradient(var(--sklearn-color-text-on-default-background), var(--sklearn-color-text-on-default-background));\n  background-size: 2px 100%;\n  background-repeat: no-repeat;\n  background-position: center center;\n}\n\n/* Parallel-specific style estimator block */\n\n#sk-container-id-1 div.sk-parallel-item::after {\n  content: \"\";\n  width: 100%;\n  border-bottom: 2px solid var(--sklearn-color-text-on-default-background);\n  flex-grow: 1;\n}\n\n#sk-container-id-1 div.sk-parallel {\n  display: flex;\n  align-items: stretch;\n  justify-content: center;\n  background-color: var(--sklearn-color-background);\n  position: relative;\n}\n\n#sk-container-id-1 div.sk-parallel-item {\n  display: flex;\n  flex-direction: column;\n}\n\n#sk-container-id-1 div.sk-parallel-item:first-child::after {\n  align-self: flex-end;\n  width: 50%;\n}\n\n#sk-container-id-1 div.sk-parallel-item:last-child::after {\n  align-self: flex-start;\n  width: 50%;\n}\n\n#sk-container-id-1 div.sk-parallel-item:only-child::after {\n  width: 0;\n}\n\n/* Serial-specific style estimator block */\n\n#sk-container-id-1 div.sk-serial {\n  display: flex;\n  flex-direction: column;\n  align-items: center;\n  background-color: var(--sklearn-color-background);\n  padding-right: 1em;\n  padding-left: 1em;\n}\n\n\n/* Toggleable style: style used for estimator/Pipeline/ColumnTransformer box that is\nclickable and can be expanded/collapsed.\n- Pipeline and ColumnTransformer use this feature and define the default style\n- Estimators will overwrite some part of the style using the `sk-estimator` class\n*/\n\n/* Pipeline and ColumnTransformer style (default) */\n\n#sk-container-id-1 div.sk-toggleable {\n  /* Default theme specific background. It is overwritten whether we have a\n  specific estimator or a Pipeline/ColumnTransformer */\n  background-color: var(--sklearn-color-background);\n}\n\n/* Toggleable label */\n#sk-container-id-1 label.sk-toggleable__label {\n  cursor: pointer;\n  display: block;\n  width: 100%;\n  margin-bottom: 0;\n  padding: 0.5em;\n  box-sizing: border-box;\n  text-align: center;\n}\n\n#sk-container-id-1 label.sk-toggleable__label-arrow:before {\n  /* Arrow on the left of the label */\n  content: \"▸\";\n  float: left;\n  margin-right: 0.25em;\n  color: var(--sklearn-color-icon);\n}\n\n#sk-container-id-1 label.sk-toggleable__label-arrow:hover:before {\n  color: var(--sklearn-color-text);\n}\n\n/* Toggleable content - dropdown */\n\n#sk-container-id-1 div.sk-toggleable__content {\n  max-height: 0;\n  max-width: 0;\n  overflow: hidden;\n  text-align: left;\n  /* unfitted */\n  background-color: var(--sklearn-color-unfitted-level-0);\n}\n\n#sk-container-id-1 div.sk-toggleable__content.fitted {\n  /* fitted */\n  background-color: var(--sklearn-color-fitted-level-0);\n}\n\n#sk-container-id-1 div.sk-toggleable__content pre {\n  margin: 0.2em;\n  border-radius: 0.25em;\n  color: var(--sklearn-color-text);\n  /* unfitted */\n  background-color: var(--sklearn-color-unfitted-level-0);\n}\n\n#sk-container-id-1 div.sk-toggleable__content.fitted pre {\n  /* unfitted */\n  background-color: var(--sklearn-color-fitted-level-0);\n}\n\n#sk-container-id-1 input.sk-toggleable__control:checked~div.sk-toggleable__content {\n  /* Expand drop-down */\n  max-height: 200px;\n  max-width: 100%;\n  overflow: auto;\n}\n\n#sk-container-id-1 input.sk-toggleable__control:checked~label.sk-toggleable__label-arrow:before {\n  content: \"▾\";\n}\n\n/* Pipeline/ColumnTransformer-specific style */\n\n#sk-container-id-1 div.sk-label input.sk-toggleable__control:checked~label.sk-toggleable__label {\n  color: var(--sklearn-color-text);\n  background-color: var(--sklearn-color-unfitted-level-2);\n}\n\n#sk-container-id-1 div.sk-label.fitted input.sk-toggleable__control:checked~label.sk-toggleable__label {\n  background-color: var(--sklearn-color-fitted-level-2);\n}\n\n/* Estimator-specific style */\n\n/* Colorize estimator box */\n#sk-container-id-1 div.sk-estimator input.sk-toggleable__control:checked~label.sk-toggleable__label {\n  /* unfitted */\n  background-color: var(--sklearn-color-unfitted-level-2);\n}\n\n#sk-container-id-1 div.sk-estimator.fitted input.sk-toggleable__control:checked~label.sk-toggleable__label {\n  /* fitted */\n  background-color: var(--sklearn-color-fitted-level-2);\n}\n\n#sk-container-id-1 div.sk-label label.sk-toggleable__label,\n#sk-container-id-1 div.sk-label label {\n  /* The background is the default theme color */\n  color: var(--sklearn-color-text-on-default-background);\n}\n\n/* On hover, darken the color of the background */\n#sk-container-id-1 div.sk-label:hover label.sk-toggleable__label {\n  color: var(--sklearn-color-text);\n  background-color: var(--sklearn-color-unfitted-level-2);\n}\n\n/* Label box, darken color on hover, fitted */\n#sk-container-id-1 div.sk-label.fitted:hover label.sk-toggleable__label.fitted {\n  color: var(--sklearn-color-text);\n  background-color: var(--sklearn-color-fitted-level-2);\n}\n\n/* Estimator label */\n\n#sk-container-id-1 div.sk-label label {\n  font-family: monospace;\n  font-weight: bold;\n  display: inline-block;\n  line-height: 1.2em;\n}\n\n#sk-container-id-1 div.sk-label-container {\n  text-align: center;\n}\n\n/* Estimator-specific */\n#sk-container-id-1 div.sk-estimator {\n  font-family: monospace;\n  border: 1px dotted var(--sklearn-color-border-box);\n  border-radius: 0.25em;\n  box-sizing: border-box;\n  margin-bottom: 0.5em;\n  /* unfitted */\n  background-color: var(--sklearn-color-unfitted-level-0);\n}\n\n#sk-container-id-1 div.sk-estimator.fitted {\n  /* fitted */\n  background-color: var(--sklearn-color-fitted-level-0);\n}\n\n/* on hover */\n#sk-container-id-1 div.sk-estimator:hover {\n  /* unfitted */\n  background-color: var(--sklearn-color-unfitted-level-2);\n}\n\n#sk-container-id-1 div.sk-estimator.fitted:hover {\n  /* fitted */\n  background-color: var(--sklearn-color-fitted-level-2);\n}\n\n/* Specification for estimator info (e.g. \"i\" and \"?\") */\n\n/* Common style for \"i\" and \"?\" */\n\n.sk-estimator-doc-link,\na:link.sk-estimator-doc-link,\na:visited.sk-estimator-doc-link {\n  float: right;\n  font-size: smaller;\n  line-height: 1em;\n  font-family: monospace;\n  background-color: var(--sklearn-color-background);\n  border-radius: 1em;\n  height: 1em;\n  width: 1em;\n  text-decoration: none !important;\n  margin-left: 1ex;\n  /* unfitted */\n  border: var(--sklearn-color-unfitted-level-1) 1pt solid;\n  color: var(--sklearn-color-unfitted-level-1);\n}\n\n.sk-estimator-doc-link.fitted,\na:link.sk-estimator-doc-link.fitted,\na:visited.sk-estimator-doc-link.fitted {\n  /* fitted */\n  border: var(--sklearn-color-fitted-level-1) 1pt solid;\n  color: var(--sklearn-color-fitted-level-1);\n}\n\n/* On hover */\ndiv.sk-estimator:hover .sk-estimator-doc-link:hover,\n.sk-estimator-doc-link:hover,\ndiv.sk-label-container:hover .sk-estimator-doc-link:hover,\n.sk-estimator-doc-link:hover {\n  /* unfitted */\n  background-color: var(--sklearn-color-unfitted-level-3);\n  color: var(--sklearn-color-background);\n  text-decoration: none;\n}\n\ndiv.sk-estimator.fitted:hover .sk-estimator-doc-link.fitted:hover,\n.sk-estimator-doc-link.fitted:hover,\ndiv.sk-label-container:hover .sk-estimator-doc-link.fitted:hover,\n.sk-estimator-doc-link.fitted:hover {\n  /* fitted */\n  background-color: var(--sklearn-color-fitted-level-3);\n  color: var(--sklearn-color-background);\n  text-decoration: none;\n}\n\n/* Span, style for the box shown on hovering the info icon */\n.sk-estimator-doc-link span {\n  display: none;\n  z-index: 9999;\n  position: relative;\n  font-weight: normal;\n  right: .2ex;\n  padding: .5ex;\n  margin: .5ex;\n  width: min-content;\n  min-width: 20ex;\n  max-width: 50ex;\n  color: var(--sklearn-color-text);\n  box-shadow: 2pt 2pt 4pt #999;\n  /* unfitted */\n  background: var(--sklearn-color-unfitted-level-0);\n  border: .5pt solid var(--sklearn-color-unfitted-level-3);\n}\n\n.sk-estimator-doc-link.fitted span {\n  /* fitted */\n  background: var(--sklearn-color-fitted-level-0);\n  border: var(--sklearn-color-fitted-level-3);\n}\n\n.sk-estimator-doc-link:hover span {\n  display: block;\n}\n\n/* \"?\"-specific style due to the `<a>` HTML tag */\n\n#sk-container-id-1 a.estimator_doc_link {\n  float: right;\n  font-size: 1rem;\n  line-height: 1em;\n  font-family: monospace;\n  background-color: var(--sklearn-color-background);\n  border-radius: 1rem;\n  height: 1rem;\n  width: 1rem;\n  text-decoration: none;\n  /* unfitted */\n  color: var(--sklearn-color-unfitted-level-1);\n  border: var(--sklearn-color-unfitted-level-1) 1pt solid;\n}\n\n#sk-container-id-1 a.estimator_doc_link.fitted {\n  /* fitted */\n  border: var(--sklearn-color-fitted-level-1) 1pt solid;\n  color: var(--sklearn-color-fitted-level-1);\n}\n\n/* On hover */\n#sk-container-id-1 a.estimator_doc_link:hover {\n  /* unfitted */\n  background-color: var(--sklearn-color-unfitted-level-3);\n  color: var(--sklearn-color-background);\n  text-decoration: none;\n}\n\n#sk-container-id-1 a.estimator_doc_link.fitted:hover {\n  /* fitted */\n  background-color: var(--sklearn-color-fitted-level-3);\n}\n</style><div id=\"sk-container-id-1\" class=\"sk-top-container\"><div class=\"sk-text-repr-fallback\"><pre>SVC()</pre><b>In a Jupyter environment, please rerun this cell to show the HTML representation or trust the notebook. <br />On GitHub, the HTML representation is unable to render, please try loading this page with nbviewer.org.</b></div><div class=\"sk-container\" hidden><div class=\"sk-item\"><div class=\"sk-estimator fitted sk-toggleable\"><input class=\"sk-toggleable__control sk-hidden--visually\" id=\"sk-estimator-id-1\" type=\"checkbox\" checked><label for=\"sk-estimator-id-1\" class=\"sk-toggleable__label fitted sk-toggleable__label-arrow fitted\">&nbsp;&nbsp;SVC<a class=\"sk-estimator-doc-link fitted\" rel=\"noreferrer\" target=\"_blank\" href=\"https://scikit-learn.org/1.4/modules/generated/sklearn.svm.SVC.html\">?<span>Documentation for SVC</span></a><span class=\"sk-estimator-doc-link fitted\">i<span>Fitted</span></span></label><div class=\"sk-toggleable__content fitted\"><pre>SVC()</pre></div> </div></div></div></div>"
     },
     "execution_count": 8,
     "metadata": {},
     "output_type": "execute_result"
    }
   ],
   "source": [
    "model_SVC = SVC()\n",
    "model_SVC.fit(x_train, y_train)"
   ],
   "metadata": {
    "collapsed": false,
    "ExecuteTime": {
     "end_time": "2024-04-08T07:38:35.446848200Z",
     "start_time": "2024-04-08T07:38:35.143664200Z"
    }
   }
  },
  {
   "cell_type": "markdown",
   "source": [
    "В методе опорных векторов для регуляризации в основном используют параметры С и гамма. При помощи метода GridSearchCV\n",
    "найдите наилучшую комбинацию этих параметров"
   ],
   "metadata": {
    "collapsed": false
   }
  },
  {
   "cell_type": "code",
   "execution_count": 9,
   "outputs": [
    {
     "name": "stdout",
     "output_type": "stream",
     "text": [
      "Наилучшие параметры: {'C': 1, 'gamma': 0.1}\n",
      "Наилучшая точность: 0.8615999999999999\n"
     ]
    }
   ],
   "source": [
    "SVC_params = {\"C\": [0.1, 1, 10], \"gamma\": [0.1, 0.2, 0.6, 1]}\n",
    "SVC_grid = GridSearchCV(model_SVC, SVC_params, cv=5, n_jobs=-1)\n",
    "\n",
    "SVC_grid.fit(x_train, y_train)\n",
    "\n",
    "print(\"Наилучшие параметры:\", SVC_grid.best_params_)\n",
    "print(\"Наилучшая точность:\", SVC_grid.best_score_)"
   ],
   "metadata": {
    "collapsed": false,
    "ExecuteTime": {
     "end_time": "2024-04-08T07:39:45.439037800Z",
     "start_time": "2024-04-08T07:38:38.168610600Z"
    }
   }
  },
  {
   "cell_type": "markdown",
   "source": [
    "Выведите точность этой модели на обучающих и тестовых данных, сделайте выводы"
   ],
   "metadata": {
    "collapsed": false
   }
  },
  {
   "cell_type": "code",
   "execution_count": 10,
   "outputs": [
    {
     "name": "stdout",
     "output_type": "stream",
     "text": [
      "Точность на обучающем наборе данных: 0.93\n",
      "Точность на тестовом наборе данных: 0.92\n"
     ]
    }
   ],
   "source": [
    "train_accuracy = model_SVC.score(x_train, y_train)\n",
    "print(\"Точность на обучающем наборе данных: {:.2f}\".format(train_accuracy))\n",
    "test_accuracy = model_SVC.score(x_valid, y_valid)\n",
    "print(\"Точность на тестовом наборе данных: {:.2f}\".format(test_accuracy))"
   ],
   "metadata": {
    "collapsed": false,
    "ExecuteTime": {
     "end_time": "2024-04-08T07:40:27.590865700Z",
     "start_time": "2024-04-08T07:40:25.885498900Z"
    }
   }
  },
  {
   "cell_type": "markdown",
   "source": [
    "Рассчитайте метрики качества (accuracy, precision, recall) и матрицу ошибок для наилучшей модели метода опорных векторов"
   ],
   "metadata": {
    "collapsed": false
   }
  },
  {
   "cell_type": "code",
   "execution_count": 96,
   "outputs": [
    {
     "name": "stdout",
     "output_type": "stream",
     "text": [
      "Точность: 0.9572\n",
      "Precision: 0.9582347692307692\n",
      "Recall: 0.9572\n",
      "Матрица ошибок:\n",
      "[[1217   24]\n",
      " [  83 1176]]\n"
     ]
    }
   ],
   "source": [
    "accuracy = accuracy_score(y_valid, y_pred)\n",
    "precision = precision_score(y_valid, y_pred, average='weighted')\n",
    "recall = recall_score(y_valid, y_pred, average='weighted')\n",
    "\n",
    "print(\"Точность:\", accuracy)\n",
    "print(\"Precision:\", precision)\n",
    "print(\"Recall:\", recall)\n",
    "\n",
    "conf_matrix = confusion_matrix(y_valid, y_pred)\n",
    "print(\"Матрица ошибок:\")\n",
    "print(conf_matrix)"
   ],
   "metadata": {
    "collapsed": false,
    "ExecuteTime": {
     "end_time": "2024-03-17T15:56:30.999864800Z",
     "start_time": "2024-03-17T15:56:30.991176Z"
    }
   }
  },
  {
   "cell_type": "markdown",
   "source": [
    "Обучите на этом же датасете модели дерева решений и K-ближайших соседей. Выведите их точность на обучающих и тестовых данных."
   ],
   "metadata": {
    "collapsed": false
   }
  },
  {
   "cell_type": "code",
   "execution_count": 11,
   "outputs": [
    {
     "name": "stdout",
     "output_type": "stream",
     "text": [
      "Точность модели дерева решений на обучающем наборе: 1.00\n",
      "Точность модели дерева решений на тестовом наборе: 0.95\n"
     ]
    }
   ],
   "source": [
    "tree_model = DecisionTreeClassifier(random_state=17)\n",
    "tree_model.fit(x_train, y_train)\n",
    "\n",
    "train_tree_predictions = tree_model.predict(x_train)\n",
    "test_tree_predictions = tree_model.predict(x_valid)\n",
    "\n",
    "train_tree_accuracy = accuracy_score(y_train, train_tree_predictions)\n",
    "test_tree_accuracy = accuracy_score(y_valid, test_tree_predictions)\n",
    "\n",
    "print(\"Точность модели дерева решений на обучающем наборе: {:.2f}\".format(train_tree_accuracy))\n",
    "print(\"Точность модели дерева решений на тестовом наборе: {:.2f}\".format(test_tree_accuracy))\n"
   ],
   "metadata": {
    "collapsed": false,
    "ExecuteTime": {
     "end_time": "2024-04-08T07:40:36.499081400Z",
     "start_time": "2024-04-08T07:40:36.459429800Z"
    }
   }
  },
  {
   "cell_type": "code",
   "execution_count": 12,
   "outputs": [
    {
     "name": "stdout",
     "output_type": "stream",
     "text": [
      "Точность модели k-ближайших соседей на обучающем наборе: 0.94\n",
      "Точность модели k-ближайших соседей на тестовом наборе: 0.91\n"
     ]
    }
   ],
   "source": [
    "knn_model = KNeighborsClassifier()\n",
    "knn_model.fit(x_train, y_train)\n",
    "\n",
    "train_knn_predictions = knn_model.predict(x_train)\n",
    "test_knn_predictions = knn_model.predict(x_valid)\n",
    "\n",
    "train_knn_accuracy = accuracy_score(y_train, train_knn_predictions)\n",
    "test_knn_accuracy = accuracy_score(y_valid, test_knn_predictions)\n",
    "\n",
    "print(\"Точность модели k-ближайших соседей на обучающем наборе: {:.2f}\".format(train_knn_accuracy))\n",
    "print(\"Точность модели k-ближайших соседей на тестовом наборе: {:.2f}\".format(test_knn_accuracy))"
   ],
   "metadata": {
    "collapsed": false,
    "ExecuteTime": {
     "end_time": "2024-04-08T07:40:53.293707700Z",
     "start_time": "2024-04-08T07:40:53.012211900Z"
    }
   }
  },
  {
   "cell_type": "markdown",
   "source": [
    "Постройте в одних осях четыре ROC-кривые для 4-х обученных моделей (логистической регрессии, метода опорных векторов, дерева решений и K-ближайших соседей). Сделайте вывод какая модель лучше делает прогноз на ваших данных."
   ],
   "metadata": {
    "collapsed": false
   }
  },
  {
   "cell_type": "code",
   "execution_count": 13,
   "outputs": [
    {
     "data": {
      "text/plain": "<Figure size 800x600 with 1 Axes>",
      "image/png": "[encoded data removed]"
     },
     "metadata": {},
     "output_type": "display_data"
    }
   ],
   "source": [
    "fpr_lr, tpr_lr, _ = roc_curve(y_valid, model_c100.predict_proba(x_valid)[:, 1])\n",
    "fpr_svc, tpr_svc, _ = roc_curve(y_valid, model_SVC.decision_function(x_valid))\n",
    "fpr_tree, tpr_tree, _ = roc_curve(y_valid, tree_model.predict_proba(x_valid)[:, 1])\n",
    "fpr_knn, tpr_knn, _ = roc_curve(y_valid, knn_model.predict_proba(x_valid)[:, 1])\n",
    "\n",
    "# Визуализируем ROC-кривые\n",
    "plt.figure(figsize=(8, 6))\n",
    "plt.plot(fpr_lr, tpr_lr, label='Логистическая регрессия')\n",
    "plt.plot(fpr_svc, tpr_svc, label='Метод опорных векторов')\n",
    "plt.plot(fpr_tree, tpr_tree, label='Дерево решений')\n",
    "plt.plot(fpr_knn, tpr_knn, label='K-ближайших соседей')\n",
    "plt.plot([0, 1], [0, 1], 'k--', label='Random Guess')\n",
    "plt.xlabel('False Positive Rate')\n",
    "plt.ylabel('True Positive Rate')\n",
    "plt.title('ROC-кривые для различных моделей')\n",
    "plt.legend(loc='lower right')\n",
    "plt.grid(True)\n",
    "plt.show()"
   ],
   "metadata": {
    "collapsed": false,
    "ExecuteTime": {
     "end_time": "2024-04-08T07:40:59.831660200Z",
     "start_time": "2024-04-08T07:40:58.983552500Z"
    }
   }
  }
 ],
 "metadata": {
  "kernelspec": {
   "display_name": "Python 3",
   "language": "python",
   "name": "python3"
  },
  "language_info": {
   "codemirror_mode": {
    "name": "ipython",
    "version": 2
   },
   "file_extension": ".py",
   "mimetype": "text/x-python",
   "name": "python",
   "nbconvert_exporter": "python",
   "pygments_lexer": "ipython2",
   "version": "2.7.6"
  }
 },
 "nbformat": 4,
 "nbformat_minor": 0
}
