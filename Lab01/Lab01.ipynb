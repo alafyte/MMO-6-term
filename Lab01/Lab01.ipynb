{
 "cells": [
  {
   "cell_type": "code",
   "execution_count": 26,
   "metadata": {
    "collapsed": true,
    "ExecuteTime": {
     "end_time": "2024-02-12T08:40:29.558024700Z",
     "start_time": "2024-02-12T08:40:29.261523500Z"
    }
   },
   "outputs": [],
   "source": [
    "import numpy as np\n",
    "import pandas as pd\n",
    "from matplotlib import pyplot as plt\n",
    "\n",
    "%matplotlib inline"
   ]
  },
  {
   "cell_type": "markdown",
   "source": [
    "Создайте двумерный массив из 20 целых случайных чисел"
   ],
   "metadata": {
    "collapsed": false
   }
  },
  {
   "cell_type": "code",
   "execution_count": 27,
   "outputs": [
    {
     "name": "stdout",
     "output_type": "stream",
     "text": [
      "[[ 15 -14]\n",
      " [ -2  14]\n",
      " [ 14   5]\n",
      " [ -6  14]\n",
      " [-18  -7]\n",
      " [ -2 -14]\n",
      " [  6   6]\n",
      " [ 12   3]\n",
      " [ 16   5]\n",
      " [  1  -9]\n",
      " [ 13  -2]\n",
      " [-10 -10]\n",
      " [-18  -6]\n",
      " [ 15 -10]\n",
      " [-14 -13]\n",
      " [ -7   9]\n",
      " [ 10   4]\n",
      " [  5 -13]\n",
      " [ 17 -13]\n",
      " [ -8 -14]]\n"
     ]
    }
   ],
   "source": [
    "a = np.random.randint(-20, 20, size=(20, 2))\n",
    "print(a)"
   ],
   "metadata": {
    "collapsed": false,
    "ExecuteTime": {
     "end_time": "2024-02-12T08:40:29.562178900Z",
     "start_time": "2024-02-12T08:40:29.267519400Z"
    }
   }
  },
  {
   "cell_type": "markdown",
   "source": [
    "Разделите полученный массив на 2 массива"
   ],
   "metadata": {
    "collapsed": false
   }
  },
  {
   "cell_type": "code",
   "execution_count": 28,
   "outputs": [
    {
     "name": "stdout",
     "output_type": "stream",
     "text": [
      "arr1: [[ 15 -14]\n",
      " [ -2  14]\n",
      " [ 14   5]\n",
      " [ -6  14]\n",
      " [-18  -7]\n",
      " [ -2 -14]\n",
      " [  6   6]\n",
      " [ 12   3]\n",
      " [ 16   5]\n",
      " [  1  -9]]\n",
      "arr2: [[ 13  -2]\n",
      " [-10 -10]\n",
      " [-18  -6]\n",
      " [ 15 -10]\n",
      " [-14 -13]\n",
      " [ -7   9]\n",
      " [ 10   4]\n",
      " [  5 -13]\n",
      " [ 17 -13]\n",
      " [ -8 -14]]\n"
     ]
    }
   ],
   "source": [
    "arr1, arr2 = np.split(a, 2)\n",
    "print('arr1:', arr1)\n",
    "print('arr2:', arr2)"
   ],
   "metadata": {
    "collapsed": false,
    "ExecuteTime": {
     "end_time": "2024-02-12T08:40:29.565223700Z",
     "start_time": "2024-02-12T08:40:29.277283400Z"
    }
   }
  },
  {
   "cell_type": "markdown",
   "source": [
    "Найдите все заданные значения в первом массиве (например, равные 6)"
   ],
   "metadata": {
    "collapsed": false
   }
  },
  {
   "cell_type": "code",
   "execution_count": 29,
   "outputs": [
    {
     "name": "stdout",
     "output_type": "stream",
     "text": [
      "(array([1, 5], dtype=int64), array([0, 0], dtype=int64))\n"
     ]
    }
   ],
   "source": [
    "result_indexes = np.where(arr1 == -2)\n",
    "print(result_indexes)"
   ],
   "metadata": {
    "collapsed": false,
    "ExecuteTime": {
     "end_time": "2024-02-12T08:40:29.566223300Z",
     "start_time": "2024-02-12T08:40:29.282726Z"
    }
   }
  },
  {
   "cell_type": "markdown",
   "source": [
    "Подсчитайте количество найденных элементов"
   ],
   "metadata": {
    "collapsed": false
   }
  },
  {
   "cell_type": "code",
   "execution_count": 30,
   "outputs": [
    {
     "name": "stdout",
     "output_type": "stream",
     "text": [
      "2\n"
     ]
    }
   ],
   "source": [
    "print(len(result_indexes[0]))"
   ],
   "metadata": {
    "collapsed": false,
    "ExecuteTime": {
     "end_time": "2024-02-12T08:40:29.566223300Z",
     "start_time": "2024-02-12T08:40:29.290605Z"
    }
   }
  },
  {
   "cell_type": "markdown",
   "source": [
    "Создайте объект Series из массива NumPy"
   ],
   "metadata": {
    "collapsed": false
   }
  },
  {
   "cell_type": "code",
   "execution_count": 31,
   "outputs": [
    {
     "name": "stdout",
     "output_type": "stream",
     "text": [
      "[ -1   3  15 -12 -14  -1 -18  -8 -20 -14   7 -12  -2 -14 -18  -7  -3  -7\n",
      " -12   3]\n"
     ]
    }
   ],
   "source": [
    "series_array = np.random.randint(-20, 20, size=(20))\n",
    "print(series_array)"
   ],
   "metadata": {
    "collapsed": false,
    "ExecuteTime": {
     "end_time": "2024-02-12T08:40:29.567997700Z",
     "start_time": "2024-02-12T08:40:29.296901Z"
    }
   }
  },
  {
   "cell_type": "code",
   "execution_count": 32,
   "outputs": [
    {
     "name": "stdout",
     "output_type": "stream",
     "text": [
      "0     -1\n",
      "1      3\n",
      "2     15\n",
      "3    -12\n",
      "4    -14\n",
      "5     -1\n",
      "6    -18\n",
      "7     -8\n",
      "8    -20\n",
      "9    -14\n",
      "10     7\n",
      "11   -12\n",
      "12    -2\n",
      "13   -14\n",
      "14   -18\n",
      "15    -7\n",
      "16    -3\n",
      "17    -7\n",
      "18   -12\n",
      "19     3\n",
      "dtype: int32\n"
     ]
    }
   ],
   "source": [
    "series = pd.Series(series_array)\n",
    "print(series)"
   ],
   "metadata": {
    "collapsed": false,
    "ExecuteTime": {
     "end_time": "2024-02-12T08:40:29.574045300Z",
     "start_time": "2024-02-12T08:40:29.303049700Z"
    }
   }
  },
  {
   "cell_type": "markdown",
   "source": [
    "Произведите с ним различные математические операции"
   ],
   "metadata": {
    "collapsed": false
   }
  },
  {
   "cell_type": "code",
   "execution_count": 33,
   "outputs": [
    {
     "name": "stdout",
     "output_type": "stream",
     "text": [
      "Квадратный корень:\n",
      "0          NaN\n",
      "1     1.732051\n",
      "2     3.872983\n",
      "3          NaN\n",
      "4          NaN\n",
      "5          NaN\n",
      "6          NaN\n",
      "7          NaN\n",
      "8          NaN\n",
      "9          NaN\n",
      "10    2.645751\n",
      "11         NaN\n",
      "12         NaN\n",
      "13         NaN\n",
      "14         NaN\n",
      "15         NaN\n",
      "16         NaN\n",
      "17         NaN\n",
      "18         NaN\n",
      "19    1.732051\n",
      "dtype: float64\n",
      "Возведение в экспоненту:\n",
      "0     3.678794e-01\n",
      "1     2.008554e+01\n",
      "2     3.269017e+06\n",
      "3     6.144212e-06\n",
      "4     8.315287e-07\n",
      "5     3.678794e-01\n",
      "6     1.522998e-08\n",
      "7     3.354626e-04\n",
      "8     2.061154e-09\n",
      "9     8.315287e-07\n",
      "10    1.096633e+03\n",
      "11    6.144212e-06\n",
      "12    1.353353e-01\n",
      "13    8.315287e-07\n",
      "14    1.522998e-08\n",
      "15    9.118820e-04\n",
      "16    4.978707e-02\n",
      "17    9.118820e-04\n",
      "18    6.144212e-06\n",
      "19    2.008554e+01\n",
      "dtype: float64\n",
      "По модулю:\n",
      "0      1\n",
      "1      3\n",
      "2     15\n",
      "3     12\n",
      "4     14\n",
      "5      1\n",
      "6     18\n",
      "7      8\n",
      "8     20\n",
      "9     14\n",
      "10     7\n",
      "11    12\n",
      "12     2\n",
      "13    14\n",
      "14    18\n",
      "15     7\n",
      "16     3\n",
      "17     7\n",
      "18    12\n",
      "19     3\n",
      "dtype: int32\n",
      "Логарифм:\n",
      "0          NaN\n",
      "1     1.098612\n",
      "2     2.708050\n",
      "3          NaN\n",
      "4          NaN\n",
      "5          NaN\n",
      "6          NaN\n",
      "7          NaN\n",
      "8          NaN\n",
      "9          NaN\n",
      "10    1.945910\n",
      "11         NaN\n",
      "12         NaN\n",
      "13         NaN\n",
      "14         NaN\n",
      "15         NaN\n",
      "16         NaN\n",
      "17         NaN\n",
      "18         NaN\n",
      "19    1.098612\n",
      "dtype: float64\n"
     ]
    }
   ],
   "source": [
    "result = series.apply(np.sqrt)\n",
    "print(f'Квадратный корень:\\n{result}')\n",
    "\n",
    "result = series.apply(np.exp)\n",
    "print(f'Возведение в экспоненту:\\n{result}')\n",
    "\n",
    "result = series.apply(np.abs)\n",
    "print(f'По модулю:\\n{result}')\n",
    "\n",
    "result = series.apply(np.log)\n",
    "print(f'Логарифм:\\n{result}')"
   ],
   "metadata": {
    "collapsed": false,
    "ExecuteTime": {
     "end_time": "2024-02-12T08:40:29.576046100Z",
     "start_time": "2024-02-12T08:40:29.311464700Z"
    }
   }
  },
  {
   "cell_type": "markdown",
   "source": [
    "Cоздайте объект Dataframe из массива NumPy"
   ],
   "metadata": {
    "collapsed": false
   }
  },
  {
   "cell_type": "code",
   "execution_count": 34,
   "outputs": [
    {
     "name": "stdout",
     "output_type": "stream",
     "text": [
      "   Col1  Col2\n",
      "0    15   -14\n",
      "1    -2    14\n",
      "2    14     5\n",
      "3    -6    14\n",
      "4   -18    -7\n",
      "5    -2   -14\n",
      "6     6     6\n",
      "7    12     3\n",
      "8    16     5\n",
      "9     1    -9\n"
     ]
    }
   ],
   "source": [
    "df = pd.DataFrame(data = arr1, columns = ['Col1', 'Col2'])\n",
    "print(df)"
   ],
   "metadata": {
    "collapsed": false,
    "ExecuteTime": {
     "end_time": "2024-02-12T08:40:29.578047100Z",
     "start_time": "2024-02-12T08:40:29.326861Z"
    }
   }
  },
  {
   "cell_type": "markdown",
   "source": [
    "Напишите строку заголовков в созданном Dataframe"
   ],
   "metadata": {
    "collapsed": false
   }
  },
  {
   "cell_type": "code",
   "execution_count": 35,
   "outputs": [
    {
     "name": "stdout",
     "output_type": "stream",
     "text": [
      "['Col1', 'Col2']\n"
     ]
    }
   ],
   "source": [
    "print(list(df.columns))"
   ],
   "metadata": {
    "collapsed": false,
    "ExecuteTime": {
     "end_time": "2024-02-12T08:40:29.580384600Z",
     "start_time": "2024-02-12T08:40:29.334326800Z"
    }
   }
  },
  {
   "cell_type": "markdown",
   "source": [
    "Удалите любую строку"
   ],
   "metadata": {
    "collapsed": false
   }
  },
  {
   "cell_type": "code",
   "execution_count": 36,
   "outputs": [
    {
     "name": "stdout",
     "output_type": "stream",
     "text": [
      "   Col1  Col2\n",
      "0    15   -14\n",
      "1    -2    14\n",
      "2    14     5\n",
      "3    -6    14\n",
      "4   -18    -7\n",
      "5    -2   -14\n",
      "6     6     6\n",
      "7    12     3\n",
      "8    16     5\n"
     ]
    }
   ],
   "source": [
    "df = df.drop(9)\n",
    "print(df)"
   ],
   "metadata": {
    "collapsed": false,
    "ExecuteTime": {
     "end_time": "2024-02-12T08:40:29.582382600Z",
     "start_time": "2024-02-12T08:40:29.340684400Z"
    }
   }
  },
  {
   "cell_type": "markdown",
   "source": [
    "Удалите любой столбец"
   ],
   "metadata": {
    "collapsed": false
   }
  },
  {
   "cell_type": "code",
   "execution_count": 37,
   "outputs": [
    {
     "name": "stdout",
     "output_type": "stream",
     "text": [
      "   Col1\n",
      "0    15\n",
      "1    -2\n",
      "2    14\n",
      "3    -6\n",
      "4   -18\n",
      "5    -2\n",
      "6     6\n",
      "7    12\n",
      "8    16\n"
     ]
    }
   ],
   "source": [
    "df = df.drop('Col2', axis=1)\n",
    "print(df)"
   ],
   "metadata": {
    "collapsed": false,
    "ExecuteTime": {
     "end_time": "2024-02-12T08:40:29.584627300Z",
     "start_time": "2024-02-12T08:40:29.353792100Z"
    }
   }
  },
  {
   "cell_type": "markdown",
   "source": [
    "Выведите размер получившегося Dataframe"
   ],
   "metadata": {
    "collapsed": false
   }
  },
  {
   "cell_type": "code",
   "execution_count": 38,
   "outputs": [
    {
     "name": "stdout",
     "output_type": "stream",
     "text": [
      "9\n"
     ]
    }
   ],
   "source": [
    "print(df.size)"
   ],
   "metadata": {
    "collapsed": false,
    "ExecuteTime": {
     "end_time": "2024-02-12T08:40:29.586647300Z",
     "start_time": "2024-02-12T08:40:29.357306200Z"
    }
   }
  },
  {
   "cell_type": "markdown",
   "source": [
    "Найдите все элементы равные какому-либо числу"
   ],
   "metadata": {
    "collapsed": false
   }
  },
  {
   "cell_type": "code",
   "execution_count": 50,
   "outputs": [
    {
     "name": "stdout",
     "output_type": "stream",
     "text": [
      "   Col1\n",
      "7    12\n"
     ]
    }
   ],
   "source": [
    "print(df[df['Col1'] == 12])"
   ],
   "metadata": {
    "collapsed": false,
    "ExecuteTime": {
     "end_time": "2024-02-12T09:03:42.626188500Z",
     "start_time": "2024-02-12T09:03:42.608486100Z"
    }
   }
  },
  {
   "cell_type": "markdown",
   "source": [
    "Импортируйте данный csv-файл в python используя модуль pandas, выведите данные\n",
    "для просмотра"
   ],
   "metadata": {
    "collapsed": false
   }
  },
  {
   "cell_type": "code",
   "execution_count": 40,
   "outputs": [
    {
     "name": "stdout",
     "output_type": "stream",
     "text": [
      "       REF Company (Manufacturer) Company Location  Review Date  \\\n",
      "0     2454                   5150           U.S.A.         2019   \n",
      "1     2454                   5150           U.S.A.         2019   \n",
      "2     2458                   5150           U.S.A.         2019   \n",
      "3     2542                   5150           U.S.A.         2021   \n",
      "4     2542                   5150           U.S.A.         2021   \n",
      "...    ...                    ...              ...          ...   \n",
      "2583  1205                 Zotter          Austria         2014   \n",
      "2584  1996                 Zotter          Austria         2017   \n",
      "2585  2036                 Zotter          Austria         2018   \n",
      "2586  2170                 Zotter          Austria         2018   \n",
      "2587  2170                 Zotter          Austria         2018   \n",
      "\n",
      "     Country of Bean Origin Specific Bean Origin or Bar Name  \\\n",
      "0                  Tanzania            Kokoa Kamili, batch 1   \n",
      "1                Madagascar           Bejofo Estate, batch 1   \n",
      "2        Dominican Republic                  Zorzal, batch 1   \n",
      "3                      Fiji            Matasawalevu, batch 1   \n",
      "4                     India                Anamalai, batch 1   \n",
      "...                     ...                              ...   \n",
      "2583                  Blend                              Raw   \n",
      "2584               Colombia                 APROCAFA, Acandi   \n",
      "2585                  Blend  Dry Aged, 30 yr Anniversary bar   \n",
      "2586                  Congo            Mountains of the Moon   \n",
      "2587                 Belize                         Maya Mtn   \n",
      "\n",
      "      Cocoa Percent (%)   Ingredients Most Memorable Characteristics  Rating  \n",
      "0                  76.0      3- B,S,C      rich cocoa, fatty, bready    3.25  \n",
      "1                  76.0      3- B,S,C   cocoa, blackberry, full body    3.75  \n",
      "2                  76.0      3- B,S,C         cocoa, vegetal, savory    3.50  \n",
      "3                  68.0      3- B,S,C            chewy, off, rubbery    3.00  \n",
      "4                  68.0      3- B,S,C  milk brownie, macadamia,chewy    3.50  \n",
      "...                 ...           ...                            ...     ...  \n",
      "2583               80.0  4- B,S*,C,Sa         waxy, cloying, vegetal    2.75  \n",
      "2584               75.0      3- B,S,C      strong nutty, marshmallow    3.75  \n",
      "2585               75.0      3- B,S,C           fatty, earthy, cocoa    3.00  \n",
      "2586               70.0      3- B,S,C   fatty, mild nuts, mild fruit    3.25  \n",
      "2587               72.0      3- B,S,C      muted, roasty, accessible    3.50  \n",
      "\n",
      "[2588 rows x 10 columns]\n"
     ]
    }
   ],
   "source": [
    "chocolate_bars_data = pd.read_csv(\"Chocolate bar ratings 2022.csv\")\n",
    "# pandas.set_option('display.max_rows', chocolate_bars_data.shape[0]+1)\n",
    "print(chocolate_bars_data)"
   ],
   "metadata": {
    "collapsed": false,
    "ExecuteTime": {
     "end_time": "2024-02-12T08:40:29.597742500Z",
     "start_time": "2024-02-12T08:40:29.373410600Z"
    }
   }
  },
  {
   "cell_type": "markdown",
   "source": [
    "Установите библиотеку визуализации Matplotlib. Постройте гистограмму частот по\n",
    "какому-то определенному столбцу (параметру)."
   ],
   "metadata": {
    "collapsed": false
   }
  },
  {
   "cell_type": "code",
   "execution_count": 41,
   "outputs": [
    {
     "data": {
      "text/plain": "<Figure size 800x800 with 1 Axes>",
      "image/png": "[encoded data removed]"
     },
     "metadata": {},
     "output_type": "display_data"
    }
   ],
   "source": [
    "plt.figure(figsize=(8, 8))\n",
    "plt.hist(chocolate_bars_data['Cocoa Percent (%)'], bins=20, color='skyblue', edgecolor='black')\n",
    "plt.xlabel('Cocoa Percent')\n",
    "plt.ylabel('Frequency')\n",
    "plt.title('Cocoa Percent Distribution')\n",
    "plt.grid(True)\n",
    "plt.show()"
   ],
   "metadata": {
    "collapsed": false,
    "ExecuteTime": {
     "end_time": "2024-02-12T08:40:29.621743200Z",
     "start_time": "2024-02-12T08:40:29.409584100Z"
    }
   }
  },
  {
   "cell_type": "markdown",
   "source": [
    "Рассчитайте медиану и среднее значение параметра."
   ],
   "metadata": {
    "collapsed": false
   }
  },
  {
   "cell_type": "code",
   "execution_count": 42,
   "outputs": [
    {
     "name": "stdout",
     "output_type": "stream",
     "text": [
      "70.0\n",
      "71.61302163833076\n"
     ]
    }
   ],
   "source": [
    "print(chocolate_bars_data['Cocoa Percent (%)'].median())\n",
    "print(chocolate_bars_data['Cocoa Percent (%)'].mean())"
   ],
   "metadata": {
    "collapsed": false,
    "ExecuteTime": {
     "end_time": "2024-02-12T08:40:29.621743200Z",
     "start_time": "2024-02-12T08:40:29.558024700Z"
    }
   }
  },
  {
   "cell_type": "markdown",
   "source": [
    "Постройте box plot для выбранного параметра. Объясните, что на нем изображено"
   ],
   "metadata": {
    "collapsed": false
   }
  },
  {
   "cell_type": "code",
   "execution_count": 43,
   "outputs": [
    {
     "data": {
      "text/plain": "<Figure size 640x480 with 1 Axes>",
      "image/png": "[encoded data removed]"
     },
     "metadata": {},
     "output_type": "display_data"
    }
   ],
   "source": [
    "plt.boxplot(chocolate_bars_data['Cocoa Percent (%)'], patch_artist=True, vert=False)\n",
    "plt.xlabel('Cocoa Percent (%)')\n",
    "plt.title('Box Plot of Cocoa Percent')\n",
    "plt.show()"
   ],
   "metadata": {
    "collapsed": false,
    "ExecuteTime": {
     "end_time": "2024-02-12T08:40:29.987945500Z",
     "start_time": "2024-02-12T08:40:29.561025100Z"
    }
   }
  },
  {
   "cell_type": "markdown",
   "source": [
    "Примените к выбранному параметру метод .describe(). Поясните параметры метода и\n",
    "полученные результаты"
   ],
   "metadata": {
    "collapsed": false
   }
  },
  {
   "cell_type": "code",
   "execution_count": 44,
   "outputs": [
    {
     "name": "stdout",
     "output_type": "stream",
     "text": [
      "count    2588.000000\n",
      "mean       71.613022\n",
      "std         5.577118\n",
      "min        42.000000\n",
      "25%        70.000000\n",
      "50%        70.000000\n",
      "75%        74.000000\n",
      "max       100.000000\n",
      "Name: Cocoa Percent (%), dtype: float64\n"
     ]
    }
   ],
   "source": [
    "print(chocolate_bars_data['Cocoa Percent (%)'].describe())"
   ],
   "metadata": {
    "collapsed": false,
    "ExecuteTime": {
     "end_time": "2024-02-12T08:40:30.009256400Z",
     "start_time": "2024-02-12T08:40:29.666776300Z"
    }
   }
  },
  {
   "cell_type": "markdown",
   "source": [
    "Сгруппируйте данные по какому-либо признаку и произведите расчет и анализ по\n",
    "каким-либо параметрам."
   ],
   "metadata": {
    "collapsed": false
   }
  },
  {
   "cell_type": "code",
   "execution_count": 45,
   "outputs": [
    {
     "data": {
      "text/plain": "                     Rating\nCocoa Percent (%)          \n42.0               2.750000\n46.0               2.750000\n50.0               3.750000\n53.0               2.000000\n55.0               2.859375\n56.0               3.250000\n57.0               2.750000\n58.0               3.125000\n60.0               3.005435\n60.5               2.750000\n61.0               2.964286\n62.0               2.984375\n63.0               3.500000\n64.0               3.195946\n65.0               3.163978\n66.0               3.348214\n67.0               3.335714\n68.0               3.290000\n69.0               3.461538\n70.0               3.265421\n71.0               3.068182\n71.5               3.125000\n72.0               3.216828\n72.5               2.750000\n73.0               3.197761\n73.5               3.125000\n74.0               3.213768\n75.0               3.161859\n76.0               3.021429\n77.0               3.098837\n78.0               3.386364\n79.0               3.250000\n80.0               3.086111\n81.0               2.916667\n82.0               3.041667\n83.0               3.000000\n84.0               2.812500\n85.0               3.000000\n86.0               3.250000\n87.0               3.250000\n88.0               3.218750\n89.0               2.625000\n90.0               2.972222\n91.0               2.166667\n99.0               2.625000\n100.0              2.285714",
      "text/html": "<div>\n<style scoped>\n    .dataframe tbody tr th:only-of-type {\n        vertical-align: middle;\n    }\n\n    .dataframe tbody tr th {\n        vertical-align: top;\n    }\n\n    .dataframe thead th {\n        text-align: right;\n    }\n</style>\n<table border=\"1\" class=\"dataframe\">\n  <thead>\n    <tr style=\"text-align: right;\">\n      <th></th>\n      <th>Rating</th>\n    </tr>\n    <tr>\n      <th>Cocoa Percent (%)</th>\n      <th></th>\n    </tr>\n  </thead>\n  <tbody>\n    <tr>\n      <th>42.0</th>\n      <td>2.750000</td>\n    </tr>\n    <tr>\n      <th>46.0</th>\n      <td>2.750000</td>\n    </tr>\n    <tr>\n      <th>50.0</th>\n      <td>3.750000</td>\n    </tr>\n    <tr>\n      <th>53.0</th>\n      <td>2.000000</td>\n    </tr>\n    <tr>\n      <th>55.0</th>\n      <td>2.859375</td>\n    </tr>\n    <tr>\n      <th>56.0</th>\n      <td>3.250000</td>\n    </tr>\n    <tr>\n      <th>57.0</th>\n      <td>2.750000</td>\n    </tr>\n    <tr>\n      <th>58.0</th>\n      <td>3.125000</td>\n    </tr>\n    <tr>\n      <th>60.0</th>\n      <td>3.005435</td>\n    </tr>\n    <tr>\n      <th>60.5</th>\n      <td>2.750000</td>\n    </tr>\n    <tr>\n      <th>61.0</th>\n      <td>2.964286</td>\n    </tr>\n    <tr>\n      <th>62.0</th>\n      <td>2.984375</td>\n    </tr>\n    <tr>\n      <th>63.0</th>\n      <td>3.500000</td>\n    </tr>\n    <tr>\n      <th>64.0</th>\n      <td>3.195946</td>\n    </tr>\n    <tr>\n      <th>65.0</th>\n      <td>3.163978</td>\n    </tr>\n    <tr>\n      <th>66.0</th>\n      <td>3.348214</td>\n    </tr>\n    <tr>\n      <th>67.0</th>\n      <td>3.335714</td>\n    </tr>\n    <tr>\n      <th>68.0</th>\n      <td>3.290000</td>\n    </tr>\n    <tr>\n      <th>69.0</th>\n      <td>3.461538</td>\n    </tr>\n    <tr>\n      <th>70.0</th>\n      <td>3.265421</td>\n    </tr>\n    <tr>\n      <th>71.0</th>\n      <td>3.068182</td>\n    </tr>\n    <tr>\n      <th>71.5</th>\n      <td>3.125000</td>\n    </tr>\n    <tr>\n      <th>72.0</th>\n      <td>3.216828</td>\n    </tr>\n    <tr>\n      <th>72.5</th>\n      <td>2.750000</td>\n    </tr>\n    <tr>\n      <th>73.0</th>\n      <td>3.197761</td>\n    </tr>\n    <tr>\n      <th>73.5</th>\n      <td>3.125000</td>\n    </tr>\n    <tr>\n      <th>74.0</th>\n      <td>3.213768</td>\n    </tr>\n    <tr>\n      <th>75.0</th>\n      <td>3.161859</td>\n    </tr>\n    <tr>\n      <th>76.0</th>\n      <td>3.021429</td>\n    </tr>\n    <tr>\n      <th>77.0</th>\n      <td>3.098837</td>\n    </tr>\n    <tr>\n      <th>78.0</th>\n      <td>3.386364</td>\n    </tr>\n    <tr>\n      <th>79.0</th>\n      <td>3.250000</td>\n    </tr>\n    <tr>\n      <th>80.0</th>\n      <td>3.086111</td>\n    </tr>\n    <tr>\n      <th>81.0</th>\n      <td>2.916667</td>\n    </tr>\n    <tr>\n      <th>82.0</th>\n      <td>3.041667</td>\n    </tr>\n    <tr>\n      <th>83.0</th>\n      <td>3.000000</td>\n    </tr>\n    <tr>\n      <th>84.0</th>\n      <td>2.812500</td>\n    </tr>\n    <tr>\n      <th>85.0</th>\n      <td>3.000000</td>\n    </tr>\n    <tr>\n      <th>86.0</th>\n      <td>3.250000</td>\n    </tr>\n    <tr>\n      <th>87.0</th>\n      <td>3.250000</td>\n    </tr>\n    <tr>\n      <th>88.0</th>\n      <td>3.218750</td>\n    </tr>\n    <tr>\n      <th>89.0</th>\n      <td>2.625000</td>\n    </tr>\n    <tr>\n      <th>90.0</th>\n      <td>2.972222</td>\n    </tr>\n    <tr>\n      <th>91.0</th>\n      <td>2.166667</td>\n    </tr>\n    <tr>\n      <th>99.0</th>\n      <td>2.625000</td>\n    </tr>\n    <tr>\n      <th>100.0</th>\n      <td>2.285714</td>\n    </tr>\n  </tbody>\n</table>\n</div>"
     },
     "execution_count": 45,
     "metadata": {},
     "output_type": "execute_result"
    }
   ],
   "source": [
    "chocolate_bars_data[['Cocoa Percent (%)', 'Rating']].groupby('Cocoa Percent (%)').mean()"
   ],
   "metadata": {
    "collapsed": false,
    "ExecuteTime": {
     "end_time": "2024-02-12T08:40:30.011272700Z",
     "start_time": "2024-02-12T08:40:29.673016400Z"
    }
   }
  },
  {
   "cell_type": "code",
   "execution_count": 46,
   "outputs": [
    {
     "data": {
      "text/plain": "                          Rating\nCountry of Bean Origin          \nTobago                  3.625000\nChina                   3.500000\nSao Tome & Principe     3.500000\nSolomon Islands         3.450000\nCongo                   3.318182\n...                          ...\nSt.Vincent-Grenadines   2.750000\nSierra Leone            2.750000\nPrincipe                2.750000\nPuerto Rico             2.714286\nBali                    2.500000\n\n[63 rows x 1 columns]",
      "text/html": "<div>\n<style scoped>\n    .dataframe tbody tr th:only-of-type {\n        vertical-align: middle;\n    }\n\n    .dataframe tbody tr th {\n        vertical-align: top;\n    }\n\n    .dataframe thead th {\n        text-align: right;\n    }\n</style>\n<table border=\"1\" class=\"dataframe\">\n  <thead>\n    <tr style=\"text-align: right;\">\n      <th></th>\n      <th>Rating</th>\n    </tr>\n    <tr>\n      <th>Country of Bean Origin</th>\n      <th></th>\n    </tr>\n  </thead>\n  <tbody>\n    <tr>\n      <th>Tobago</th>\n      <td>3.625000</td>\n    </tr>\n    <tr>\n      <th>China</th>\n      <td>3.500000</td>\n    </tr>\n    <tr>\n      <th>Sao Tome &amp; Principe</th>\n      <td>3.500000</td>\n    </tr>\n    <tr>\n      <th>Solomon Islands</th>\n      <td>3.450000</td>\n    </tr>\n    <tr>\n      <th>Congo</th>\n      <td>3.318182</td>\n    </tr>\n    <tr>\n      <th>...</th>\n      <td>...</td>\n    </tr>\n    <tr>\n      <th>St.Vincent-Grenadines</th>\n      <td>2.750000</td>\n    </tr>\n    <tr>\n      <th>Sierra Leone</th>\n      <td>2.750000</td>\n    </tr>\n    <tr>\n      <th>Principe</th>\n      <td>2.750000</td>\n    </tr>\n    <tr>\n      <th>Puerto Rico</th>\n      <td>2.714286</td>\n    </tr>\n    <tr>\n      <th>Bali</th>\n      <td>2.500000</td>\n    </tr>\n  </tbody>\n</table>\n<p>63 rows × 1 columns</p>\n</div>"
     },
     "execution_count": 46,
     "metadata": {},
     "output_type": "execute_result"
    }
   ],
   "source": [
    "chocolate_bars_data[['Country of Bean Origin', 'Rating']].groupby('Country of Bean Origin').mean().sort_values(by=['Rating'], ascending=False)"
   ],
   "metadata": {
    "collapsed": false,
    "ExecuteTime": {
     "end_time": "2024-02-12T08:40:30.012308Z",
     "start_time": "2024-02-12T08:40:29.692745500Z"
    }
   }
  },
  {
   "cell_type": "code",
   "execution_count": 47,
   "outputs": [
    {
     "data": {
      "text/plain": "Company (Manufacturer)  Country of Bean Origin\n5150                    Dominican Republic        3.500000\n                        Fiji                      3.000000\n                        India                     3.500000\n                        Madagascar                3.750000\n                        Tanzania                  3.250000\n                                                    ...   \ntwenty-four blackbirds  Bolivia                   2.500000\n                        Dominican Republic        2.916667\n                        Ecuador                   3.500000\n                        Madagascar                3.500000\n                        Tanzania                  3.250000\nName: Rating, Length: 1808, dtype: float64"
     },
     "execution_count": 47,
     "metadata": {},
     "output_type": "execute_result"
    }
   ],
   "source": [
    "chocolate_bars_data.groupby(['Company (Manufacturer)', 'Country of Bean Origin'])['Rating'].mean()"
   ],
   "metadata": {
    "collapsed": false,
    "ExecuteTime": {
     "end_time": "2024-02-12T08:40:30.012308Z",
     "start_time": "2024-02-12T08:40:29.705047100Z"
    }
   }
  },
  {
   "cell_type": "code",
   "execution_count": 48,
   "outputs": [
    {
     "data": {
      "text/plain": "Country of Bean Origin\nVenezuela             254\nPeru                  248\nDominican Republic    234\nEcuador               223\nMadagascar            184\n                     ... \nChina                   1\nPrincipe                1\nSulawesi                1\nSuriname                1\nDR Congo                1\nName: count, Length: 63, dtype: int64"
     },
     "execution_count": 48,
     "metadata": {},
     "output_type": "execute_result"
    }
   ],
   "source": [
    "chocolate_bars_data['Country of Bean Origin'].value_counts()"
   ],
   "metadata": {
    "collapsed": false,
    "ExecuteTime": {
     "end_time": "2024-02-12T08:40:30.014796700Z",
     "start_time": "2024-02-12T08:40:29.719042500Z"
    }
   }
  },
  {
   "cell_type": "code",
   "execution_count": 49,
   "outputs": [
    {
     "name": "stdout",
     "output_type": "stream",
     "text": [
      "4.0\n"
     ]
    }
   ],
   "source": [
    "print(chocolate_bars_data['Rating'].max())"
   ],
   "metadata": {
    "collapsed": false,
    "ExecuteTime": {
     "end_time": "2024-02-12T08:40:30.044297100Z",
     "start_time": "2024-02-12T08:40:29.727923100Z"
    }
   }
  },
  {
   "cell_type": "code",
   "execution_count": 49,
   "outputs": [],
   "source": [],
   "metadata": {
    "collapsed": false,
    "ExecuteTime": {
     "end_time": "2024-02-12T08:40:30.045619900Z",
     "start_time": "2024-02-12T08:40:29.733663Z"
    }
   }
  }
 ],
 "metadata": {
  "kernelspec": {
   "display_name": "Python 3",
   "language": "python",
   "name": "python3"
  },
  "language_info": {
   "codemirror_mode": {
    "name": "ipython",
    "version": 2
   },
   "file_extension": ".py",
   "mimetype": "text/x-python",
   "name": "python",
   "nbconvert_exporter": "python",
   "pygments_lexer": "ipython2",
   "version": "2.7.6"
  }
 },
 "nbformat": 4,
 "nbformat_minor": 0
}
